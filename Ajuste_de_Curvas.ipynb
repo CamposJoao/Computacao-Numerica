{
  "nbformat": 4,
  "nbformat_minor": 0,
  "metadata": {
    "colab": {
      "name": "Ajuste_de_Curvas.ipynb",
      "provenance": [],
      "authorship_tag": "ABX9TyOLQZLAjaYsUYmlfefGebfB",
      "include_colab_link": true
    },
    "kernelspec": {
      "name": "python3",
      "display_name": "Python 3"
    },
    "language_info": {
      "name": "python"
    }
  },
  "cells": [
    {
      "cell_type": "markdown",
      "metadata": {
        "id": "view-in-github",
        "colab_type": "text"
      },
      "source": [
        "<a href=\"https://colab.research.google.com/github/CamposJoao/Numerical-Methods/blob/main/Ajuste_de_Curvas.ipynb\" target=\"_parent\"><img src=\"https://colab.research.google.com/assets/colab-badge.svg\" alt=\"Open In Colab\"/></a>"
      ]
    },
    {
      "cell_type": "markdown",
      "metadata": {
        "id": "3bb5a7fc"
      },
      "source": [
        "### Departamento de Engenharia de Teleinformática\n",
        "### AP2 Computação Numérica\n",
        "### Prof. Tarcisio Ferreira Maciel, Dr.-Ing. ([maciel@ufc.br](mailto:maciel@ufc.br))\n",
        "\n",
        "### Identificação do aluno\n",
        "**Nome:** João Pedro Silva Campos\n",
        "\n",
        "**Matrícula:** 405039"
      ]
    },
    {
      "cell_type": "code",
      "execution_count": null,
      "metadata": {
        "id": "7aa58a57"
      },
      "outputs": [],
      "source": [
        "import numpy as np # Biblioteca para manipular vetores e matrizes (arranjos)"
      ]
    },
    {
      "cell_type": "markdown",
      "source": [
        "### Questão - Regressão Linear\n",
        "\n",
        "Seja $a=3$ e\n",
        "$$\n",
        "\\frac{1}{1000}abx^2exp\\left(\\frac{m}{x}\\right)\n",
        "$$"
      ],
      "metadata": {
        "id": "4REx1gI7B9Di"
      }
    },
    {
      "cell_type": "code",
      "source": [
        "xinicial = np.array([4, 8, 16, 32, 64], dtype=float)\n",
        "yinicial = np.array([4.1, 2.9, 9.7, 28.4, 94.6], dtype=float)"
      ],
      "metadata": {
        "id": "ntPtwLpplKMM"
      },
      "execution_count": null,
      "outputs": []
    },
    {
      "cell_type": "code",
      "source": [
        "# Linearização dos vetores iniciais\n",
        "x = 1/xinicial\n",
        "y = np.log(yinicial/(xinicial**2))\n",
        "print(x)\n",
        "print(y)"
      ],
      "metadata": {
        "colab": {
          "base_uri": "https://localhost:8080/"
        },
        "id": "PmAxf-CNEN4J",
        "outputId": "40b2dc14-7484-4a00-8459-669efae4ea66"
      },
      "execution_count": null,
      "outputs": [
        {
          "output_type": "stream",
          "name": "stdout",
          "text": [
            "[0.25     0.125    0.0625   0.03125  0.015625]\n",
            "[-1.36160175 -3.09417235 -3.27305156 -3.58508266 -3.76810869]\n"
          ]
        }
      ]
    },
    {
      "cell_type": "code",
      "source": [
        "n = x.size\n",
        "Sx, Sy, Sxx, Sxy = np.sum(x), np.sum(y), np.sum(x**2), np.sum(x*y)\n",
        "\n",
        "a0 = (Sy*Sxx - Sxy*Sx)/(n*Sxx - Sx**2)\n",
        "a1 = (n*Sxy - Sx*Sy)/(n*Sxx - Sx**2)\n",
        "\n",
        "print(\"n: \", n)\n",
        "print(\"x: \", x, \"-> Sx = \", Sx)\n",
        "print(\"y: \", y, \"-> Sy = \", Sy)\n",
        "print(\"xx: \", x**2, \"-> Sxx = \", Sxx)\n",
        "print(\"xy: \", x*y, \"-> Sxy = \", Sxy)\n",
        "print(\"a1: {:.4e}\".format(a1))\n",
        "print(\"a0: {:.4e}\".format(a0))"
      ],
      "metadata": {
        "colab": {
          "base_uri": "https://localhost:8080/"
        },
        "id": "hk8XDEwwGfxS",
        "outputId": "69e09db8-7b93-4234-99f8-c15630252b3f"
      },
      "execution_count": null,
      "outputs": [
        {
          "output_type": "stream",
          "name": "stdout",
          "text": [
            "n:  5\n",
            "x:  [0.25     0.125    0.0625   0.03125  0.015625] -> Sx =  0.484375\n",
            "y:  [-1.36160175 -3.09417235 -3.27305156 -3.58508266 -3.76810869] -> Sy =  -15.082017004960791\n",
            "xx:  [0.0625     0.015625   0.00390625 0.00097656 0.00024414] -> Sxx =  0.083251953125\n",
            "xy:  [-0.34040044 -0.38677154 -0.20456572 -0.11203383 -0.0588767 ] -> Sxy =  -1.1026482342940196\n",
            "a1: 9.8662e+00\n",
            "a0: -3.9722e+00\n"
          ]
        }
      ]
    },
    {
      "cell_type": "markdown",
      "metadata": {
        "id": "8528b955"
      },
      "source": [
        "### Questão - Regressão Polinomial\n",
        "\n",
        "Implemente uma função ```polynomial_regression(...)``` em Python 3.X que implemente a **regressão polinomial** e que receba como parâmetros dois vetores de dados ```x``` e ```y``` de mesma dimensão e a ordem ```n``` do polinômio a ser gerado e que retorne um vetor ```a``` com os ```n+1``` coeficientes do polinômio regressor. A função deve:\n",
        "1. Respeitar a especificação de parâmetros indicada acima e conter documentação de todo o código na forma de comentários.\n",
        "2. Retornar a solução do sistema quando os dados de entrada forem válidos.\n",
        "3. Verificar o fornecimento de dados inválidos, interrompendo a função, retornando ```None```, e imprimindo uma mensagem de erro adequada.\n",
        "4. O uso da função deve ser demonstrado com um exemplo de aplicação devidamente documentado."
      ]
    },
    {
      "cell_type": "code",
      "source": [
        "def polynomial_regression(x, y, n, disp=False):\n",
        "  # Ordem do polinômio regressor\n",
        "  m = n\n",
        "  # Número de pontos dados\n",
        "  n = np.size(x,0)\n",
        "  if n != np.size(y,0):\n",
        "    print(\"Os vetores x e y são de tamanhos diferentes\")\n",
        "    return\n",
        "  if n < m+1:\n",
        "    print(\"Para n pontos, o polinômio precisa ser da ordem de até n-1\")\n",
        "    return\n",
        "  # Cria vetor para amazenar as somas de potência de x\n",
        "  somax = np.zeros(2*m+1)\n",
        "  # Cria vetor para amazenar as somas de potência de y\n",
        "  somay = np.zeros(m+1)\n",
        "  # Cria matriz para armazenar as somas de potência x\n",
        "  S = np.zeros((m+1,m+1))\n",
        "  # Armazena no vetor somax as somas de potência de x\n",
        "  for j in range(0,2*m+1):\n",
        "    somax[j] = np.sum(x**j)\n",
        "  for i in range(0,m+1):\n",
        "    for j in range(0,m+1):\n",
        "      S[i][j] = somax[j+i]\n",
        "    # Armazena no vetor somax as somas de potência de y\n",
        "    somay[i] =  np.sum(x**i*y)\n",
        "  # Resolve a matriz e determina os coeficientes armazenando no vetor a\n",
        "  a = np.linalg.inv(S)@somay\n",
        "  return a"
      ],
      "metadata": {
        "id": "6y89PF52VC7c"
      },
      "execution_count": null,
      "outputs": []
    },
    {
      "cell_type": "code",
      "source": [
        "# Variáveis de entrada:\n",
        "# Vetor com as coordenadas x dos pontos dados\n",
        "x = np.array([1., 3, 5, 7, 10], dtype=float)\n",
        "# Vetor com as coordenadas y dos pontos dados\n",
        "y = np.array([2.2, 5, 5.5, 6.1, 6.6], dtype=float)\n",
        "# Ordem n do polinômio regressor\n",
        "n = 2"
      ],
      "metadata": {
        "id": "YagPBiASU6Jc"
      },
      "execution_count": null,
      "outputs": []
    },
    {
      "cell_type": "code",
      "source": [
        "# Aplica o método da regressão polinomial\n",
        "print(\"Método da regressão polinomial\")\n",
        "print(\"==================================\")\n",
        "print(\"O vetor a com os valores dos\", n+1, \"coeficientes do polinômio regressor de ordem\", n,\" é: \", polynomial_regression(x, y, n, disp=True))"
      ],
      "metadata": {
        "colab": {
          "base_uri": "https://localhost:8080/"
        },
        "id": "qoVn4Ni7WSGL",
        "outputId": "241f5d0d-d0f3-4240-8230-daf1d24ebdbe"
      },
      "execution_count": null,
      "outputs": [
        {
          "output_type": "stream",
          "name": "stdout",
          "text": [
            "Método da regressão polinomial\n",
            "==================================\n",
            "O vetor a com os valores dos 3 coeficientes do polinômio regressor de ordem 2  é:  [ 1.3539699   1.21478118 -0.07040304]\n"
          ]
        }
      ]
    },
    {
      "cell_type": "markdown",
      "source": [
        "**Fonte do código**\n",
        "\n",
        "*   Método de regressão polinomial adaptado do Exemplo 5-3: Uso da regressão polinomial no ajuste de uma curva tensão-deformação do livro Métodos Numéricos para Engenheiros e Cientistas - Gilat\n",
        "*   Método de regressão polinomial adaptado da explicação da página 395 e 396 do livro Métodos Numéricos para Engenharia - Chapra\n",
        "*   Exemplo de aplicação adaptado da questão 5.9 do livro Métodos Numéricos para Engenheiros e Cientistas - Gilat\n",
        "\n",
        "\n",
        "\n"
      ],
      "metadata": {
        "id": "X8ycM5WW1SDN"
      }
    }
  ]
}