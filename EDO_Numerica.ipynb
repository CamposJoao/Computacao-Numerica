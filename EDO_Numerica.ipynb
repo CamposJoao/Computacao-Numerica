{
  "nbformat": 4,
  "nbformat_minor": 0,
  "metadata": {
    "colab": {
      "name": "EDO_Numerica.ipynb",
      "provenance": [],
      "authorship_tag": "ABX9TyPXPs4jtwDWHfktEwyjixNF",
      "include_colab_link": true
    },
    "kernelspec": {
      "name": "python3",
      "display_name": "Python 3"
    },
    "language_info": {
      "name": "python"
    }
  },
  "cells": [
    {
      "cell_type": "markdown",
      "metadata": {
        "id": "view-in-github",
        "colab_type": "text"
      },
      "source": [
        "<a href=\"https://colab.research.google.com/github/CamposJoao/Numerical-Methods/blob/main/EDO_Numerica.ipynb\" target=\"_parent\"><img src=\"https://colab.research.google.com/assets/colab-badge.svg\" alt=\"Open In Colab\"/></a>"
      ]
    },
    {
      "cell_type": "markdown",
      "metadata": {
        "id": "3bb5a7fc"
      },
      "source": [
        "### Departamento de Engenharia de Teleinformática\n",
        "### AP3 de Computação Numérica\n",
        "### Prof. Tarcisio Ferreira Maciel, Dr.-Ing. ([maciel@ufc.br](mailto:maciel@ufc.br))\n",
        "\n",
        "### Identificação do aluno\n",
        "**Nome:** João Pedro Silva Campos\n",
        "\n",
        "**Matrícula:** 405039"
      ]
    },
    {
      "cell_type": "markdown",
      "metadata": {
        "id": "89d8c1c9"
      },
      "source": [
        "### Questão - EDO Numérica\n",
        "\n",
        "Implemente uma função ```solve_edo(...)``` em Python 3.X que implemente os métodos de integração de **Euler** (```'euler'```), de **Euler modificado** (```'eulerm'```) e do **ponto central** (```'center'```) e que receba como parâmetros a equação diferencial ```dydx```, o intervalo de solução ```[a, b]```, a condição inicial ```x0```, o passo de solução ```h``` e a string identificando o método de solução de EDOs a ser aplicado. A função deve:\n",
        "1. Respeitar a especificação de parâmetros indicada acima e conter documentação de todo o código na forma de comentários.\n",
        "2. Retornar o valor da integral numérica quando os dados de entrada forem válidos.\n",
        "3. Verificar o fornecimento de dados inválidos, interrompendo a função, retornando ```None```, e imprimindo uma mensagem de erro adequada.\n",
        "4. O uso da função deve ser demonstrado com um exemplo de aplicação devidamente documentado."
      ]
    },
    {
      "cell_type": "code",
      "execution_count": null,
      "metadata": {
        "id": "37fead01"
      },
      "outputs": [],
      "source": [
        "import numpy as np # Biblioteca para manipular vetores e matrizes (arranjos)\n",
        "import matplotlib.pyplot as plt # Biblioteca para plotar gráficos"
      ]
    },
    {
      "cell_type": "code",
      "source": [
        "# Implementa a função para o cálculo da equação diferencial dydx\n",
        "def dydx(x, y, disp=False):\n",
        "  return -1.2*y + 7*np.exp(-0.3*x)"
      ],
      "metadata": {
        "id": "J-8ai49zUV9J"
      },
      "execution_count": null,
      "outputs": []
    },
    {
      "cell_type": "code",
      "source": [
        "# A função solve_edo resolve uma EDO de primeiro ordem com valor inicial\n",
        "# usando o método de Euler, Euler modificado ou ponto central\n",
        "def solve_edo(dydx, a, b, x0, h, metodo, disp=False):\n",
        "  # Cria o vetor x no intervalo de solução [a,b] com passo de h\n",
        "  x = np.arange(a, b+h, h)\n",
        "  # Número de elementos n no vetor x para n-1 passos\n",
        "  n = np.size(x)\n",
        "  # Cria vetor y de zeros para armazenar a solução da equação\n",
        "  y = np.zeros(n)\n",
        "  # Atribui o valor da condição inicial a primeira posição do vetor y\n",
        "  y[0] = x0\n",
        "  if metodo == 'euler':\n",
        "    # Implementa o método de Euler progressivo\n",
        "    for i in range(0,n-1):\n",
        "      # Calcula o próximo ponto da solução numérica através da estimativa da \n",
        "      # inclinação dydx(x[i],y[i]) e armazena no vetor y de soluções\n",
        "      y[i+1] = y[i] + dydx(x[i],y[i])*h \n",
        "    return y\n",
        "  if metodo == 'eulerm':\n",
        "    # Implementa o método de Euler modificado\n",
        "    yeu = np.zeros(n)\n",
        "    for i in range(0,n-1):\n",
        "      # Estima o próximo ponto utilizando o método de Euler através da estimativa da \n",
        "      # inclinação no início do intervalo\n",
        "      yeu[i+1] = y[i] + dydx(x[i],y[i])*h\n",
        "      # Calcula o próximo ponto da solução numérica através da média das estimativas\n",
        "      # de inclinação no início e no final do intervalo\n",
        "      y[i+1] = y[i] + (dydx(x[i],y[i]) + dydx(x[i+1],yeu[i+1]))*h/2\n",
        "    return y\n",
        "  if metodo == 'center':\n",
        "    # Implementa o método do ponto central\n",
        "    ym = np.zeros(n)\n",
        "    for i in range(0, n-1):\n",
        "      # Calcula as coordenadas do ponto médio (xm,ym)\n",
        "      xm = x[i] + h/2\n",
        "      ym = y[i] + dydx(x[i],y[i])*h/2\n",
        "      # Calcula o próximo ponto da solução numérica através da estimativa de\n",
        "      # inclinação utilizando o ponto médio\n",
        "      y[i+1] = y[i] + dydx(xm,ym)*h\n",
        "    return y\n",
        "  return"
      ],
      "metadata": {
        "id": "qun-AwboUbpA"
      },
      "execution_count": null,
      "outputs": []
    },
    {
      "cell_type": "code",
      "source": [
        "# Atribui a largura do passo de integração\n",
        "h = 0.5\n",
        "# Atribui o valor inicial às variáveis\n",
        "x0 = 3\n",
        "\n",
        "# Atribui o domínio\n",
        "# a é o primeiro valor de x\n",
        "a = 0\n",
        "# b é o último valor de x\n",
        "b = 2.5 \n",
        "# Cria o vetor x no intervalo de solução [a,b] com passo de h\n",
        "x = np.arange(a, b+h, h)\n",
        "\n",
        "# Solução exata (analítica) \n",
        "# Cria vetores para o traçado da solução exata\n",
        "xref = np.arange(a, b, 0.001)\n",
        "yref = 70/9*np.exp(-0.3*xref)-43/9*np.exp(-1.2*xref)\n",
        "yref1 = 70/9*np.exp(-0.3*x)-43/9*np.exp(-1.2*x)\n",
        "\n",
        "yeuler = solve_edo(dydx, a, b, x0, h, 'euler', disp=True)\n",
        "yeulerm = solve_edo(dydx, a, b, x0, h, 'eulerm', disp=True)\n",
        "ycenter = solve_edo(dydx, a, b, x0, h, 'center', disp=True)\n",
        "\n",
        "# Plota o gráfico com as soluções dos métodos de Euler, Euler modificado e \n",
        "# ponto central\n",
        "plt.figure(figsize=(12,8))\n",
        "plt.plot(xref, yref, 'b-')\n",
        "plt.plot(x, yeuler, 'yo')\n",
        "plt.plot(x, yeulerm, 'gs')\n",
        "plt.plot(x, ycenter, 'r.')\n",
        "plt.grid()\n",
        "plt.show()"
      ],
      "metadata": {
        "id": "8I9yZ9s0UfNQ",
        "colab": {
          "base_uri": "https://localhost:8080/",
          "height": 483
        },
        "outputId": "964f474c-a8eb-44af-fc5b-d95822e212f5"
      },
      "execution_count": null,
      "outputs": [
        {
          "output_type": "display_data",
          "data": {
            "image/png": "[encoded data removed]",
            "text/plain": [
              "<Figure size 864x576 with 1 Axes>"
            ]
          },
          "metadata": {
            "needs_background": "light"
          }
        }
      ]
    },
    {
      "cell_type": "code",
      "source": [
        "print(\"Vetor x no intervalo de solução [a,b] com passo de h\")\n",
        "print(x)\n",
        "print(\"Solução exata (analítica)\")\n",
        "print(yref1)\n",
        "print(\"Solução numérica utilizando método de Euler\")\n",
        "print(yeuler)\n",
        "print(\"Erro da solução numérica utilizando o método de Euler\")\n",
        "print(yeuler-yref1)\n",
        "print(\"Solução numérica utilizando o método de Euler modificado\")\n",
        "print(yeulerm)\n",
        "print(\"Erro da solução numérica utilizando o método de Euler modificado\")\n",
        "print(yref1-yeulerm)\n",
        "print(\"Solução numérica utilizando o método do ponto central\")\n",
        "print(ycenter)\n",
        "print(\"Erro da solução numérica utilizando o método do ponto central\")\n",
        "print(yref1-ycenter)"
      ],
      "metadata": {
        "id": "Z3g8dScTUmSh",
        "colab": {
          "base_uri": "https://localhost:8080/"
        },
        "outputId": "216fdbe2-3500-4206-821d-03a8d7daeaa6"
      },
      "execution_count": null,
      "outputs": [
        {
          "output_type": "stream",
          "name": "stdout",
          "text": [
            "Vetor x no intervalo de solução [a,b] com passo de h\n",
            "[0.  0.5 1.  1.5 2.  2.5]\n",
            "Solução exata (analítica)\n",
            "[3.         4.07229533 4.32288048 4.16956871 3.83510473 3.43609053]\n",
            "Solução numérica utilizando método de Euler\n",
            "[3.         4.7        4.89247792 4.54985494 4.05164051 3.54149693]\n",
            "Erro da solução numérica utilizando o método de Euler\n",
            "[0.         0.62770467 0.56959744 0.38028623 0.21653578 0.1054064 ]\n",
            "Solução numérica utilizando o método de Euler modificado\n",
            "[3.         3.94623896 4.18774607 4.06331474 3.76348262 3.39362953]\n",
            "Erro da solução numérica utilizando o método de Euler modificado\n",
            "[0.         0.12605637 0.13513442 0.10625398 0.07162211 0.042461  ]\n",
            "Solução numérica utilizando o método do ponto central\n",
            "[3.         3.9371022  4.17458267 4.04891129 3.74930277 3.38039086]\n",
            "Erro da solução numérica utilizando o método do ponto central\n",
            "[0.         0.13519313 0.14829781 0.12065742 0.08580196 0.05569967]\n"
          ]
        }
      ]
    },
    {
      "cell_type": "markdown",
      "source": [
        "**Fonte do código:**\n",
        "*   Código do método do ponto central baseado na explicação do tópico 8.4 Método do Ponto Central na página 346 do livro Métodos Numéricos para Engenheiros e Cientistas - Gilat \n",
        "*   Exemplo de aplicação é baseado no Exemplo 8-1: Solução de uma EDO de primeira ordem usando o método explícito de Euler e no Exemplo 8-3: Solução de uma EDO de primeira ordem usando o método de Euler modificado, ambos do livro Métodos Numéricos para Engenheiros e Cientistas - Gilat"
      ],
      "metadata": {
        "id": "STp_GbMAZrL9"
      }
    }
  ]
}