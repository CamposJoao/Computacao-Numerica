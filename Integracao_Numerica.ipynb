{
  "nbformat": 4,
  "nbformat_minor": 0,
  "metadata": {
    "colab": {
      "name": "Integracao-Numerica.ipynb",
      "provenance": [],
      "authorship_tag": "ABX9TyPVx/mMW265EdlLbIQRBgd4",
      "include_colab_link": true
    },
    "kernelspec": {
      "name": "python3",
      "display_name": "Python 3"
    },
    "language_info": {
      "name": "python"
    }
  },
  "cells": [
    {
      "cell_type": "markdown",
      "metadata": {
        "id": "view-in-github",
        "colab_type": "text"
      },
      "source": [
        "<a href=\"https://colab.research.google.com/github/CamposJoao/Numerical-Methods/blob/main/Integracao_Numerica.ipynb\" target=\"_parent\"><img src=\"https://colab.research.google.com/assets/colab-badge.svg\" alt=\"Open In Colab\"/></a>"
      ]
    },
    {
      "cell_type": "markdown",
      "metadata": {
        "id": "3bb5a7fc"
      },
      "source": [
        "### Departamento de Engenharia de Teleinformática\n",
        "### AP3 de Computação Numérica\n",
        "### Prof. Tarcisio Ferreira Maciel, Dr.-Ing. ([maciel@ufc.br](mailto:maciel@ufc.br))\n",
        "\n",
        "### Identificação do aluno\n",
        "**Nome:** João Pedro Silva Campos\n",
        "\n",
        "**Matrícula:** 405039"
      ]
    },
    {
      "cell_type": "markdown",
      "metadata": {
        "id": "4f1658ed"
      },
      "source": [
        "### Questão - Integração Numérica\n",
        "\n",
        "Implemente uma função ```integrate(...)``` em Python 3.X que implemente os métodos de integração do **retângulo** (```'rect'```), do **trapézio** (```'trapz'```), de **Simpson 1/3** (```'simp3'```) e de **Simpson 3/8** (```'simp8'```) e que receba como parâmetros uma função ```f```, o intervalo de integração ```[a, b]```, o número de subintervalos, e a string identificando o método de integração a ser aplicado. No caso de um número de subintervalos inválido, o programa deve escolher o próximo número de subintervalos válido maior que aquele fornecido. A função deve:\n",
        "1. Respeitar a especificação de parâmetros indicada acima e conter documentação de todo o código na forma de comentários.\n",
        "2. Retornar o valor da integral numérica quando os dados de entrada forem válidos.\n",
        "3. Verificar o fornecimento de dados inválidos, interrompendo a função, retornando ```None```, e imprimindo uma mensagem de erro adequada. Note que um número de subintervalos inválido não necessariamente interromperá a função.\n",
        "4. O uso da função deve ser demonstrado com um exemplo de aplicação devidamente documentado."
      ]
    },
    {
      "cell_type": "code",
      "execution_count": null,
      "metadata": {
        "id": "cb8d5edf"
      },
      "outputs": [],
      "source": [
        "import numpy as np # Biblioteca para manipular vetores e matrizes (arranjos)"
      ]
    },
    {
      "cell_type": "code",
      "source": [
        "def f(x,disp=False):\n",
        "  return 0.2 + 25*x - 200*x**2 + 675*x**3 - 900*x**4 + 400*x**5"
      ],
      "metadata": {
        "id": "vuhPInpyl8HU"
      },
      "execution_count": null,
      "outputs": []
    },
    {
      "cell_type": "code",
      "source": [
        "# Função da integral da AP3 2021.2 para matrícula 405039\n",
        "def g(x, disp=False):\n",
        "  return np.sqrt(81-x**2)"
      ],
      "metadata": {
        "id": "oiAHk9mBmCNs"
      },
      "execution_count": null,
      "outputs": []
    },
    {
      "cell_type": "code",
      "source": [
        "def integrate(f, a, b, N, metodo, disp=False): \n",
        "  h = (b-a)/N\n",
        "  if metodo == 'rect':\n",
        "    # Implementa o método do retângulo composto \n",
        "    if N == 0:\n",
        "      N = 1\n",
        "    # Cria o vetor intervalo de integração [a,b] com N subintervalos e com N+1 pontos \n",
        "    x = np.linspace(a,b,N+1)\n",
        "    n = np.size(x)\n",
        "    I = 0\n",
        "    # Somatório dos retângulos, ou seja, das áreas abaixo dos polinômios de ordem zero \n",
        "    for i in range(0, n-1):\n",
        "      I = I + f(x[i])\n",
        "    I = h*I\n",
        "    return I\n",
        "  if metodo == 'trapz':\n",
        "    # Implementa o método do trapézio composto\n",
        "    if N == 0:\n",
        "      N = 1\n",
        "    # Cria o vetor intervalo de integração [a,b] com N subintervalos e com N+1 pontos \n",
        "    x = np.linspace(a,b,N+1)\n",
        "    n = np.size(x)\n",
        "    I = 0\n",
        "    # Somatório dos trapézios, ou seja, das áreas abaixo dos polinômios de ordem 1\n",
        "    for i in range(0, n-1):\n",
        "      I = I + f(x[i+1]) + f(x[i])\n",
        "    I = h/2*I\n",
        "    return I\n",
        "  if metodo == 'simp3':\n",
        "    # Implementa o método de Simpson 1/3, ou seja, somatório das áreas dos polinômios de ordem 2\n",
        "    # O número de subintervalos no domínio [a,b] deve ser divisível por 2 (par)\n",
        "    if N == 0:\n",
        "      N = 2\n",
        "    # Fornece um subintervalos válido mais próximo e maior que o fornecido\n",
        "    if (N % 2) != 0:\n",
        "      N = N + 1\n",
        "    # Cria o vetor intervalo de integração [a,b] com N subintervalos e com N+1 pontos \n",
        "    x = np.linspace(a,b,N+1)\n",
        "    n = np.size(x)\n",
        "    # Somatório do primeiro e do último com peso unitário\n",
        "    I = f(x[0]) + f(x[n-1])\n",
        "    for i in range(1,n-1,2):\n",
        "      I = I + 4*f(x[i])\n",
        "    for i in range(2,n-2,2):\n",
        "      I = I + 2*f(x[i])\n",
        "    I = I*h/3\n",
        "    return I\n",
        "  if metodo == 'simp8':\n",
        "    # Implementa o método de Simpson 3/8, ou seja, somatório das áreas dos polinômios de ordem 3\n",
        "    # O número de subintervalos no domínio [a,b] deve ser divisível por 3\n",
        "    if N == 0:\n",
        "      N = 3 \n",
        "    # Fornece um subintervalos válido mais próximo e maior que o fornecido\n",
        "    while (N % 3) != 0:\n",
        "      N = N + 1\n",
        "    # Cria o vetor intervalo de integração [a,b] com N subintervalos e com N+1 pontos \n",
        "    x = np.linspace(a,b,N+1)\n",
        "    n = np.size(x)\n",
        "    # Somatório do primeiro e do último com peso unitário\n",
        "    I = f(x[0]) + f(x[n-1])\n",
        "    for i in range(1,n-2,3):\n",
        "      I = I + 3*(f(x[i]) + f(x[i+1]))\n",
        "    for i in range(3,n-3,3):\n",
        "      I = I + 2*f(x[i])\n",
        "    I = I*3*h/8\n",
        "    return I\n",
        "  return"
      ],
      "metadata": {
        "id": "PusaG0kaZaGP"
      },
      "execution_count": null,
      "outputs": []
    },
    {
      "cell_type": "code",
      "source": [
        "# Valor da integral exata da função f(x) em no intervalor de integração [0,0.8]\n",
        "I_f_exato = 1.640533\n",
        "\n",
        "# Atribui o domínio\n",
        "# a é o primeiro valor de x\n",
        "a = 0\n",
        "# b é o último valor de x\n",
        "b = 0.8\n",
        "\n",
        "# N é o número de subintervalos\n",
        "N = 6\n",
        "\n",
        "print(I_f_exato, \"é o valor exato da integral para a função f(x)\")\n",
        "print(integrate(f, a, b, N, 'rect', disp=False), \"é o valor da integração numérica utilizando o método do retângulo composto\")\n",
        "print(integrate(f, a, b, N, 'trapz', disp=False), \"é o valor da integração numérica utilizando o método do trapézio composto\")\n",
        "print(integrate(f, a, b, N, 'simp3', disp=False), \"é o valor da integração numérica utilizando o método de Simpson 1/3 composto\")\n",
        "print(integrate(f, a, b, N, 'simp8', disp=False), \"é o valor da integração numérica utilizando o método de Simpson 3/8 composto\")"
      ],
      "metadata": {
        "colab": {
          "base_uri": "https://localhost:8080/"
        },
        "id": "QoiwhojMl4Xg",
        "outputId": "2b6efc08-9c31-4456-e581-b5aa12157418"
      },
      "execution_count": null,
      "outputs": [
        {
          "output_type": "stream",
          "name": "stdout",
          "text": [
            "1.640533 é o valor exato da integral para a função f(x)\n",
            "1.5681316872427933 é o valor da integração numérica utilizando o método do retângulo composto\n",
            "1.5702650205761304 é o valor da integração numérica utilizando o método do trapézio composto\n",
            "1.6371621399176908 é o valor da integração numérica utilizando o método de Simpson 1/3 composto\n",
            "1.6329481481481452 é o valor da integração numérica utilizando o método de Simpson 3/8 composto\n"
          ]
        }
      ]
    },
    {
      "cell_type": "code",
      "source": [
        "# Valor da integral exata da função g(x) em no intervalor de integração [-9,9]\n",
        "I_g_exato = (np.pi*9**2)/2\n",
        "\n",
        "# Atribui o domínio\n",
        "# a é o primeiro valor de x\n",
        "a = -9\n",
        "# b é o último valor de x\n",
        "b = 9\n",
        "\n",
        "# N é o número de subintervalos\n",
        "N = 6\n",
        "\n",
        "print(I_g_exato, \"é o valor exato da integral para a função g(x)\")\n",
        "print(integrate(g, a, b, N, 'rect', disp=False), \"é o valor da integração numérica utilizando o método do retângulo composto\")\n",
        "print(integrate(g, a, b, N, 'trapz', disp=False), \"é o valor da integração numérica utilizando o método do trapézio composto\")\n",
        "print(integrate(g, a, b, N, 'simp3', disp=False), \"é o valor da integração numérica utilizando o método de Simpson 1/3 composto\")\n",
        "print(integrate(g, a, b, N, 'simp8', disp=False), \"é o valor da integração numérica utilizando o método de Simpson 3/8 composto\")"
      ],
      "metadata": {
        "colab": {
          "base_uri": "https://localhost:8080/"
        },
        "id": "HuZ9pRQTpIS0",
        "outputId": "bd90ab6c-11ba-4026-a611-2ccaa20c1260"
      },
      "execution_count": null,
      "outputs": [
        {
          "output_type": "stream",
          "name": "stdout",
          "text": [
            "127.23450247038662 é o valor exato da integral para a função g(x)\n",
            "118.16091184042764 é o valor da integração numérica utilizando o método do retângulo composto\n",
            "118.16091184042762 é o valor da integração numérica utilizando o método do trapézio composto\n",
            "123.60675695694924 é o valor da integração numérica utilizando o método de Simpson 1/3 composto\n",
            "122.8060258204811 é o valor da integração numérica utilizando o método de Simpson 3/8 composto\n"
          ]
        }
      ]
    },
    {
      "cell_type": "markdown",
      "source": [
        "**Fonte do código:**\n",
        "*   O código é uma adaptação da explicação dos métodos de integração numérica abordados no capítulo 7 do livro Métodos Numéricos para Engenheiros e Cientistas - Gilat\n",
        "*   Exemplo de aplicação da função f(x) é adaptado dos exemplos 21.2 (página 511), 21.5 (página 517) e 21.6 (página 519) do livro Métodos Numéricos para Engenharia - Chapra\n",
        "*   Exemplo de aplicação da função g(x) é adaptado da questão 2 da AP3 de Computação Numérica 2021.2\n",
        "\n",
        "\n",
        "\n"
      ],
      "metadata": {
        "id": "W8oaMV7sZdWu"
      }
    }
  ]
}