{
  "nbformat": 4,
  "nbformat_minor": 0,
  "metadata": {
    "colab": {
      "name": "Sistemas_de_Equacoes_Lineares.ipynb",
      "provenance": [],
      "authorship_tag": "ABX9TyOMHEW0+rTHfZDXRGgB2oG7",
      "include_colab_link": true
    },
    "kernelspec": {
      "name": "python3",
      "display_name": "Python 3"
    },
    "language_info": {
      "name": "python"
    }
  },
  "cells": [
    {
      "cell_type": "markdown",
      "metadata": {
        "id": "view-in-github",
        "colab_type": "text"
      },
      "source": [
        "<a href=\"https://colab.research.google.com/github/CamposJoao/Numerical-Methods/blob/main/Sistemas_de_Equacoes_Lineares.ipynb\" target=\"_parent\"><img src=\"https://colab.research.google.com/assets/colab-badge.svg\" alt=\"Open In Colab\"/></a>"
      ]
    },
    {
      "cell_type": "markdown",
      "metadata": {
        "id": "3bb5a7fc"
      },
      "source": [
        "### Departamento de Engenharia de Teleinformática\n",
        "### AP2 Computação Numérica\n",
        "### Prof. Tarcisio Ferreira Maciel, Dr.-Ing. ([maciel@ufc.br](mailto:maciel@ufc.br))\n",
        "\n",
        "### Identificação do aluno\n",
        "**Nome:** João Pedro Silva Campos\n",
        "\n",
        "**Matrícula:** 405039"
      ]
    },
    {
      "cell_type": "code",
      "execution_count": null,
      "metadata": {
        "id": "c3f6b3f5"
      },
      "outputs": [],
      "source": [
        "import numpy as np # Biblioteca para manipular vetores e matrizes (arranjos)"
      ]
    },
    {
      "cell_type": "markdown",
      "metadata": {
        "id": "4f1658ed"
      },
      "source": [
        "### Questão - Substituição Regressiva\n",
        "\n",
        "Implemente uma função ```back_substitution(...)``` em Python 3.X que implemente o método da **substituição regressiva** e que receba como parâmetros uma matrix triangular superior ```A``` e um vetor ```b``` e que retorne um vetor ```x``` com a solução do sistema linear triangular, se houver. A função deve:\n",
        "1. Respeitar a especificação de parâmetros indicada acima e conter documentação de todo o código na forma de comentários.\n",
        "2. Retornar a solução do sistema quando os dados de entrada forem válidos.\n",
        "3. Verificar o fornecimento de dados inválidos, interrompendo a função, retornando ```None```, e imprimindo uma mensagem de erro adequada.\n",
        "4. O uso da função deve ser demonstrado com um exemplo de aplicação devidamente documentado."
      ]
    },
    {
      "cell_type": "code",
      "execution_count": null,
      "metadata": {
        "id": "cb8d5edf"
      },
      "outputs": [],
      "source": [
        "# A função aplica o método da substituição regressiva\n",
        "# A função recebe a matriz triangular superior A e o vetor b\n",
        "def back_substitution(A, b, disp=False):\n",
        "  # Número de linhas da matriz A\n",
        "  L = np.size(A,0)\n",
        "  # Número de colunas da matriz A\n",
        "  C = np.size(A,1)\n",
        "  # Verificação do fornecimento de dados inválidos\n",
        "  if C != L:\n",
        "    print(\"A matriz A não é quadrada\")\n",
        "    if L != np.size(b):\n",
        "      print(\"O número de linhas da matriz A é diferente do número de elementos do vetor b\")\n",
        "      return\n",
        "    return\n",
        "  for j in range(0,C):\n",
        "    if A[j][j] == 0:\n",
        "      print(\"A matriz A tem elemento nulo na diagonal\")\n",
        "      return\n",
        "    for i in range(j+1,L):\n",
        "      if A[i][j] != 0:\n",
        "        print(\"A matriz A não é triangular superior\")\n",
        "        return\n",
        "\n",
        "  # Incorpora o vetor coluna b à matriz A\n",
        "  ab = np.insert(A, L, b, axis=1)\n",
        "  # Número de linhas de matriz extendida ab\n",
        "  L = np.size(ab,0)\n",
        "  # Número de colunas da matriz extendida ab\n",
        "  C = np.size(ab,1)\n",
        "  # Cria um vetor x de zeros para armazenar a solução do sistema linear triangular\n",
        "  x = np.zeros(L)\n",
        "  # Substituição regressiva\n",
        "  x[L-1] = ab[L-1][C-1]/ab[L-1][L-1]\n",
        "  for i in range(L-2,-1,-1):\n",
        "    for j in range(i+1,L):\n",
        "      x[i] = x[i] + ab[i][j]*x[j] \n",
        "    x[i] = (ab[i][C-1] - x[i])/ab[i][i]\n",
        "  # A função retorna o vetor x com a solução do sistema linear triangular\n",
        "  return x"
      ]
    },
    {
      "cell_type": "code",
      "source": [
        "# Variáveis de entrada:\n",
        "# Matriz triangular superior A\n",
        "A = np.array([[1, 2, -2], [0, -1, 5], [0, 0, -18]], dtype=float)\n",
        "# Vetor b\n",
        "b = np.array([9, 5, -36], dtype=float)\n",
        "\n",
        "# Chama a função de substituição regressiva e passa os valores de A e b\n",
        "# Escreve o vetor x com a solução do sistema linear triangular\n",
        "print(\"O valor do vetor x é: \", back_substitution(A, b, disp=True))"
      ],
      "metadata": {
        "colab": {
          "base_uri": "https://localhost:8080/"
        },
        "id": "CH8GSaZVXDbM",
        "outputId": "90a0cdfa-8bf0-4d1e-d8a6-ac340b4ca5a6"
      },
      "execution_count": null,
      "outputs": [
        {
          "output_type": "stream",
          "name": "stdout",
          "text": [
            "O valor do vetor x é:  [3. 5. 2.]\n"
          ]
        }
      ]
    },
    {
      "cell_type": "markdown",
      "source": [
        "**Fonte do código:** \n",
        "\n",
        "*   Slide 98 do material da disciplina\n",
        "*   Exemplo de aplicação adaptado da questão 4.1 do livro Métodos Numéricos para Engenheiros e Cientistas - Gilat\n",
        "*   Substituição regressiva adaptada do Exemplo 4-2: Função criada no MATLAB para resolver um sistema de equações usando a eliminação de Gauss do livro Métodos Numéricos para Engenheiros e Cientistas - Gilat\n",
        "\n",
        "\n",
        "\n"
      ],
      "metadata": {
        "id": "yZtjedBEipoc"
      }
    },
    {
      "cell_type": "markdown",
      "metadata": {
        "id": "89d8c1c9"
      },
      "source": [
        "### Questão - Substituição Progressiva\n",
        "\n",
        "Implemente uma função ```forward_substitution(...)``` em Python 3.X que implemente o método da **substituição progressiva** e que receba como parâmetros uma matrix triangular inferior ```A``` e um vetor ```b``` e que retorne um vetor ```x``` com a solução do sistema linear triangular, se houver. A função deve:\n",
        "1. Respeitar a especificação de parâmetros indicada acima e conter documentação de todo o código na forma de comentários.\n",
        "2. Retornar a solução do sistema quando os dados de entrada forem válidos.\n",
        "3. Verificar o fornecimento de dados inválidos, interrompendo a função, retornando ```None```, e imprimindo uma mensagem de erro adequada.\n",
        "4. O uso da função deve ser demonstrado com um exemplo de aplicação devidamente documentado."
      ]
    },
    {
      "cell_type": "code",
      "source": [
        "# A função aplica o método da substituição progressiva\n",
        "# A função recebe a matriz triangular inferior A e o vetor b\n",
        "def forward_substitution(A, b, disp=False):\n",
        "  # Número de linhas da matriz A\n",
        "  L = np.size(A,0)\n",
        "  # Número de colunas da matriz A\n",
        "  C = np.size(A,1)\n",
        "  # Verificação do fornecimento de dados inválidos\n",
        "  if C != L:\n",
        "    print(\"A matriz A não é quadrada\")\n",
        "    if L != np.size(b):\n",
        "      print(\"O número de linhas da matriz A é diferente do número de elementos do vetor b\")\n",
        "      return\n",
        "    return\n",
        "  for i in range(L-1,-1,-1):\n",
        "    if A[i][i] == 0:\n",
        "      print(\"A matriz A tem elemento nulo na diagonal\")\n",
        "      return\n",
        "    for j in range(i+1,C):\n",
        "      if A[i][j] != 0:\n",
        "        print(\"A matriz A não é triangular superior\")\n",
        "        return\n",
        "  # Incorpora o vetor coluna b à matriz A\n",
        "  ab = np.insert(A, L, b, axis=1)\n",
        "  # Número de linhas de matriz extendida ab\n",
        "  L = np.size(ab,0)\n",
        "  # Número de colunas da matriz extendida ab\n",
        "  C = np.size(ab,1)\n",
        "  # Cria um vetor x de zeros para armazenar a solução do sistema linear triangular\n",
        "  x = np.zeros(L)\n",
        "  # Substituição progressiva\n",
        "  x[0] = ab[0][C-1]/ab[0][0]\n",
        "  for i in range(1,L):\n",
        "    for j in range(0,i):\n",
        "      x[i] = x[i] + ab[i][j]*x[j] \n",
        "    x[i] = (ab[i][C-1] - x[i])/ab[i][i]\n",
        "  # A função retorna o vetor x com a solução do sistema linear triangular  \n",
        "  return x"
      ],
      "metadata": {
        "id": "GuTIdnh60PUI"
      },
      "execution_count": null,
      "outputs": []
    },
    {
      "cell_type": "code",
      "source": [
        "# Variáveis de entrada:\n",
        "# Matriz triangular inferior A\n",
        "A = np.array([[-6, 0, 0], [7, -1, 0], [-2, 6, -2]], dtype=float)\n",
        "# Vetor b\n",
        "b = np.array([-12, 13, -6], dtype=float)\n",
        "\n",
        "# Chama a função de substituição progressiva e passa os valores de A e b\n",
        "# Escreve o vetor x com a solução do sistema linear triangular\n",
        "print(\"O valor do vetor x é: \", forward_substitution(A, b, disp=True))"
      ],
      "metadata": {
        "colab": {
          "base_uri": "https://localhost:8080/"
        },
        "id": "Ww4MGzIf3EGk",
        "outputId": "068796bc-df98-40e1-c497-e72544f01e03"
      },
      "execution_count": null,
      "outputs": [
        {
          "output_type": "stream",
          "name": "stdout",
          "text": [
            "O valor do vetor x é:  [2. 1. 4.]\n"
          ]
        }
      ]
    },
    {
      "cell_type": "markdown",
      "source": [
        "**Fonte do código:**\n",
        "\n",
        "*   Exemplo de aplicação adaptado da questão 4.2 do livro Métodos Numéricos para Engenheiros e Cientistas - Gilat\n",
        "*   Substituição progressiva adaptada do livro Métodos Numéricos para Engenheiros e Cientistas - Gilat - página 116\n",
        "\n"
      ],
      "metadata": {
        "id": "qXU4eIEczqTX"
      }
    },
    {
      "cell_type": "markdown",
      "metadata": {
        "id": "e78b64b5"
      },
      "source": [
        "### Questão - Eliminação de Gauss com Pivotação Parcial\n",
        "\n",
        "Implemente uma função ```gauss_elimination(...)``` em Python 3.X que implemente a **eliminação de Gauss com pivotação parcial** e que receba como parâmetro uma matrix  quadrada ```A```e um vetor ```b``` de dimensões adequadas e que retorne um vetor ```x``` com a solução do sistema linear, se houver. A função deve:\n",
        "1. Respeitar a especificação de parâmetros indicada acima e conter documentação de todo o código na forma de comentários.\n",
        "2. Retornar a solução do sistema quando os dados de entrada forem válidos.\n",
        "3. Verificar o fornecimento de dados inválidos, interrompendo a função, retornando ```None```, e imprimindo uma mensagem de erro adequada.\n",
        "4. O uso da função deve ser demonstrado com um exemplo de aplicação devidamente documentado."
      ]
    },
    {
      "cell_type": "code",
      "execution_count": null,
      "metadata": {
        "id": "884c74eb"
      },
      "outputs": [],
      "source": [
        "# Implementa o Método de eliminação de Gauss (eliminação progressiva)\n",
        "# A função resolve um sistema de equações lineares [A][x]=[b] \n",
        "# usando o método de eliminação de Gauss (eliminação progressiva)\n",
        "def gauss_elimination(A, b, disp=False):\n",
        "  # Número de linhas da matriz A\n",
        "  L = np.size(A,0)\n",
        "  # Número de colunas da matriz A\n",
        "  C = np.size(A,1)\n",
        "  # Verificação do fornecimento de dados inválidos\n",
        "  if C != L:\n",
        "    print(\"A matriz A não é quadrada\")\n",
        "    if L != np.size(b):\n",
        "      print(\"O número de linhas da matriz A é diferente do número de elementos do vetor b\")\n",
        "      return\n",
        "    return\n",
        "  # Incorpora o vetor coluna [b] à matriz [A]\n",
        "  ab = np.insert(A, L, b, axis=1)\n",
        "  if disp:\n",
        "    print(\"A matriz que incorpora o vetor coluna [b] à matriz [A] é:\")\n",
        "    print(ab)\n",
        "  # Número de linhas de matriz extendida ab\n",
        "  L = np.size(ab,0)\n",
        "  # Número de colunas de matriz extendida ab\n",
        "  C = np.size(ab,1)\n",
        "\n",
        "  # Procedimento de pivotação parcial\n",
        "  for j in range(0,L):\n",
        "    for i in range(j+1,C-1):\n",
        "      if abs(ab[j][j]) < abs(ab[i][j]):\n",
        "        ab[[j,i]] = ab[[i,j]]\n",
        "  if disp:\n",
        "    print(\"A matriz após o procedimento de pivotação é:\")\n",
        "    print(ab)\n",
        "\n",
        "  # Procedimento de eliminação de Gauss (eliminação progressiva)\n",
        "  for j in range(0,L-1):\n",
        "    for i in range(j+1,L):\n",
        "      for k in range(j-L,C-1):\n",
        "        ab[i][k] = ab[i][k] - ab[i][j]/ab[j][j]*ab[j][k]\n",
        "  if disp:\n",
        "    print(\"A matriz resultado da eliminação de Gauss (eliminação progressiva) é:\")\n",
        "    print(ab)\n",
        "  # Cria um vetor x de zeros para armazenar a solução do sistema linear triangular\n",
        "  x = np.zeros(L)\n",
        "\n",
        "  # Substituição regressiva\n",
        "  x[L-1] = ab[L-1][C-1]/ab[L-1][L-1]\n",
        "  for i in range(L-2,-1,-1):\n",
        "    for j in range(i+1,L):\n",
        "      x[i] = x[i] + ab[i][j]*x[j] \n",
        "    x[i] = (ab[i][C-1] - x[i])/ab[i][i]\n",
        "  return x"
      ]
    },
    {
      "cell_type": "code",
      "source": [
        "# Variáveis de entrada:\n",
        "# Matriz A de coeficientes\n",
        "A = np.array([[0, 2, 3], [4, -3, 2], [2, 4, -3]], dtype=float)\n",
        "# Vetor b coluna contendo as constantes do lado direito do sistema\n",
        "b = np.array([46, 16, 12], dtype=float)\n",
        "\n",
        "# Aplica o Método de eliminação de Gauss (eliminação progressiva)\n",
        "print(\"Método de eliminação de Gauss (eliminação progressiva)\")\n",
        "print(\"======================================================\")\n",
        "print(\"O valor de x é\", gauss_elimination(A, b, disp=True))"
      ],
      "metadata": {
        "id": "1mi7B7ZlIhE5",
        "colab": {
          "base_uri": "https://localhost:8080/"
        },
        "outputId": "82baeba7-dcd9-4cef-e344-831a32fbb3ea"
      },
      "execution_count": null,
      "outputs": [
        {
          "output_type": "stream",
          "name": "stdout",
          "text": [
            "Método de eliminação de Gauss (eliminação progressiva)\n",
            "======================================================\n",
            "A matriz que incorpora o vetor coluna [b] à matriz [A] é:\n",
            "[[ 0.  2.  3. 46.]\n",
            " [ 4. -3.  2. 16.]\n",
            " [ 2.  4. -3. 12.]]\n",
            "3 linhas e 4 colunas na matriz\n",
            "A matriz após o procedimento de pivotação é:\n",
            "[[ 4. -3.  2. 16.]\n",
            " [ 2.  4. -3. 12.]\n",
            " [ 0.  2.  3. 46.]]\n",
            "A matriz resultado da eliminação de Gauss (eliminação progressiva) é:\n",
            "[[ 4.         -3.          2.         16.        ]\n",
            " [ 0.          5.5        -4.          4.        ]\n",
            " [ 0.          0.          4.45454545 44.54545455]]\n",
            "O valor de x é [ 5.  8. 10.]\n"
          ]
        }
      ]
    },
    {
      "cell_type": "markdown",
      "source": [
        "**Fonte do código:**\n",
        "\n",
        "*   Método da eliminação de Gauss (eliminação progressiva) adaptado do Exemplo 4-2: Função criada no MATLAB para resolver um sistema de equações usando a eliminação de Gauss do livro Métodos Numéricos para Engenheiros e Cientistas - Gilat\n",
        "*   Método de pivotação parcial adaptado da explicação da página 216 e 217 do livro Métodos Numéricos para Engenharia - Chapra\n",
        "*   Exemplo de aplicação adaptado da explicação do algoritmo de eliminação de Gauss e a pivotação no slide 110 e 111 da disciplina\n",
        "\n",
        "\n",
        "\n"
      ],
      "metadata": {
        "id": "SnUg6wTJDRVT"
      }
    },
    {
      "cell_type": "markdown",
      "source": [
        "### Questão - Gauss-Seidel"
      ],
      "metadata": {
        "id": "fZRM67SbdH7i"
      }
    },
    {
      "cell_type": "code",
      "execution_count": null,
      "metadata": {
        "colab": {
          "base_uri": "https://localhost:8080/"
        },
        "id": "YBGu2gi6d0eN",
        "outputId": "edcbfcc6-0e2a-4d58-cab8-0eb3d0806d63"
      },
      "outputs": [
        {
          "name": "stdout",
          "output_type": "stream",
          "text": [
            "[0. 0. 0. 0.] 1\n",
            "[ 6.05555556 -3.26388889  3.38131313 -0.58598485] 2\n",
            "[ 4.33336139 -1.76826775  2.4266073  -1.18816886] 3\n",
            "[ 5.11777559 -1.97722875  2.45955535 -0.97518733] 4\n",
            "[ 5.0130279  -2.02267289  2.5166982  -0.99393219] 5\n",
            "[ 4.98804711 -1.99511266  2.49805799 -1.00346838] 6\n",
            "[ 5.00250416 -1.9998109   2.49938734 -0.99943337] 7\n",
            "[ 5.00012032 -2.00039573  2.50031082 -0.99991938] 8\n"
          ]
        }
      ],
      "source": [
        "a = np.array([[9, -2, 3, 2], [2, 8, -2, 3], [-3, 2, 11, -4], [-2, 3, 2, 10]], dtype=float)\n",
        "b = np.array([54.5, -14, 12.5, -21], dtype=float)\n",
        "# Número de linhas\n",
        "L = np.size(a,0)\n",
        "# Número de colunas\n",
        "C = np.size(a,1)\n",
        "# Valores iniciais para i = 1\n",
        "x = np.zeros(L)\n",
        "# Número de interações\n",
        "interacoes = 9\n",
        "\n",
        "for k in range(1,interacoes):\n",
        "  print(x,k)\n",
        "  for i in range(0,L):\n",
        "    somatorio = 0.0\n",
        "    for j in range(0,C):\n",
        "      if j != i:\n",
        "        somatorio = somatorio + (a[i][j]*x[j])\n",
        "      x[i] = (b[i] - somatorio)/a[i][i]"
      ]
    },
    {
      "cell_type": "markdown",
      "source": [
        "**Fonte do código:**\n",
        "\n",
        "\n",
        "*   Exemplo 4.8: Solução de um conjunto de quatro equações lineares usando o método de Gauss-Seidel\n",
        "\n",
        "*   Página 148 do livro Métodos Numéricos para Engenheiros e Cientistas\n",
        "\n",
        "\n"
      ],
      "metadata": {
        "id": "9SQ9HIYZdrIT"
      }
    },
    {
      "cell_type": "markdown",
      "source": [
        "### Questão - Jacobi"
      ],
      "metadata": {
        "id": "fmB9woPieJFA"
      }
    },
    {
      "cell_type": "code",
      "execution_count": null,
      "metadata": {
        "colab": {
          "base_uri": "https://localhost:8080/"
        },
        "id": "9SXwe19l75yV",
        "outputId": "1e1138c4-b604-4930-c45c-0c13ac652d18"
      },
      "outputs": [
        {
          "name": "stdout",
          "output_type": "stream",
          "text": [
            "[[ 3.    0.2   0.25]\n",
            " [ 0.15 -4.    0.25]\n",
            " [-0.15 -0.2   5.  ]]\n",
            "[12. 15. 20.]\n",
            "[0. 0. 0.]\n",
            "[ 4.   -3.75  4.  ]\n",
            "[ 3.91666667 -3.35        3.97      ]\n"
          ]
        }
      ],
      "source": [
        "a = 3.0\n",
        "b = 4.0\n",
        "c = 5.0\n",
        "A = np.array([[a, b/20, c/20], [a/20, -b, c/20], [-a/20, -b/20, c]], dtype=float)\n",
        "be = np.array([a*b, a*c, b*c], dtype=float)\n",
        "# Número de linhas\n",
        "L = np.size(A,0)\n",
        "# Número de colunas\n",
        "C = np.size(A,1)\n",
        "# Valores iniciais para i = 1\n",
        "x = np.zeros(L)\n",
        "# Número de interações\n",
        "interacoes = 3\n",
        "print(A)\n",
        "print(be)\n",
        "print(x)\n",
        "xnew = np.zeros(L)\n",
        "for k in range(1,interacoes):\n",
        "  for i in range(0,L):\n",
        "    somatorio = 0.0\n",
        "    for j in range(0,C):\n",
        "      if j != i:\n",
        "        somatorio = somatorio + (A[i][j]*x[j])\n",
        "      xnew[i] = (be[i] - somatorio)/A[i][i]\n",
        "  x = xnew.copy()\n",
        "  print(xnew)"
      ]
    }
  ]
}